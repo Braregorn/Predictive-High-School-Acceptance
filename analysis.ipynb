{
  "nbformat": 4,
  "nbformat_minor": 0,
  "metadata": {
    "colab": {
      "name": "NYC DOE HSPHS Analysis",
      "provenance": [],
      "collapsed_sections": [
        "1TguaIEMhtsP",
        "HA0ZMSoshxjR",
        "F3a3hEychz6E",
        "BRCbtqMYh2b_",
        "-Mh7w9pAh7OU",
        "i7oQFoDYh__O",
        "PWAYVWCmiDNg"
      ],
      "toc_visible": true
    },
    "kernelspec": {
      "name": "python3",
      "display_name": "Python 3"
    },
    "language_info": {
      "name": "python"
    }
  },
  "cells": [
    {
      "cell_type": "markdown",
      "source": [
        "# Introduction"
      ],
      "metadata": {
        "id": "UQKeKb6khwy_"
      }
    },
    {
      "cell_type": "markdown",
      "source": [
        "Code and Analysis provided and written by Nicholas Lin - nl1637@nyu.edu"
      ],
      "metadata": {
        "id": "AjYHSvQ0g03F"
      }
    },
    {
      "cell_type": "markdown",
      "source": [
        "Given a dataset provided by the New York City Department of Education, I aimed to use features within the dataset to determine whether several characteristics of NYC middle schools predict admission to one of 8 high selective public high schools (Stuyvesant, Bronx Science, etc.) within New York City, which will be referred to from now on as a **HSPHS**. Given this, further consideration has to be given that admission to a HSPHS is contingenet upon applying and scoring sufficiently high on the Specialized High Schools Admissions Test **(SHSAT)** which is an independently produced and anonymously graded standardized test."
      ],
      "metadata": {
        "id": "E-gtJEr_iXsh"
      }
    },
    {
      "cell_type": "markdown",
      "source": [
        "Import relevant packages and modules:"
      ],
      "metadata": {
        "id": "bZLSWvkNjczC"
      }
    },
    {
      "cell_type": "code",
      "source": [
        "import math\n",
        "import pandas as pd\n",
        "import numpy as np\n",
        "import matplotlib\n",
        "import matplotlib.pyplot as plt\n",
        "%matplotlib inline\n",
        "import seaborn as sns\n",
        "import sklearn as sk\n",
        "from scipy import stats\n",
        "from sklearn.decomposition import PCA\n",
        "from sklearn.cluster import KMeans\n",
        "from sklearn.metrics import silhouette_samples\n",
        "from sklearn import svm\n",
        "from sklearn.tree import DecisionTreeClassifier"
      ],
      "metadata": {
        "id": "Y7ili2INiSM9"
      },
      "execution_count": 2,
      "outputs": []
    },
    {
      "cell_type": "markdown",
      "source": [
        "## The Dataset"
      ],
      "metadata": {
        "id": "pzujvZFskPiQ"
      }
    },
    {
      "cell_type": "markdown",
      "source": [
        "The dataset **(middleSchoolData.csv)** contains data from all 594 middle schools within New York City, including 485 public schools and 109 charter schools with all 109 charter schools being featured within the last 109 rows of the dataset from a randomly selected year within the last 5 years. Given that each row of the dataset represents a particular school, the unit of analysis in this respect will be \"school.\" The columns represent: "
      ],
      "metadata": {
        "id": "LwnslVZtkkwW"
      }
    },
    {
      "cell_type": "markdown",
      "source": [
        "Import the data and then inspect data features"
      ],
      "metadata": {
        "id": "9hF1bXPAmMlW"
      }
    },
    {
      "cell_type": "code",
      "source": [
        "from google.colab import files\n",
        "uploaded = files.upload()"
      ],
      "metadata": {
        "colab": {
          "resources": {
            "http://localhost:8080/nbextensions/google.colab/files.js": {
              "data": "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",
              "ok": true,
              "headers": [
                [
                  "content-type",
                  "application/javascript"
                ]
              ],
              "status": 200,
              "status_text": ""
            }
          },
          "base_uri": "https://localhost:8080/",
          "height": 73
        },
        "id": "6Q4h995uj7Em",
        "outputId": "e253b65a-bb44-45a1-9818-8ceed9937037"
      },
      "execution_count": 9,
      "outputs": [
        {
          "output_type": "display_data",
          "data": {
            "text/plain": [
              "<IPython.core.display.HTML object>"
            ],
            "text/html": [
              "\n",
              "     <input type=\"file\" id=\"files-c02f9d13-3e6d-4a82-a6f7-55ddaafb5270\" name=\"files[]\" multiple disabled\n",
              "        style=\"border:none\" />\n",
              "     <output id=\"result-c02f9d13-3e6d-4a82-a6f7-55ddaafb5270\">\n",
              "      Upload widget is only available when the cell has been executed in the\n",
              "      current browser session. Please rerun this cell to enable.\n",
              "      </output>\n",
              "      <script src=\"/nbextensions/google.colab/files.js\"></script> "
            ]
          },
          "metadata": {}
        },
        {
          "output_type": "stream",
          "name": "stdout",
          "text": [
            "Saving middleSchoolData.csv to middleSchoolData (2).csv\n"
          ]
        }
      ]
    },
    {
      "cell_type": "code",
      "source": [
        "import io\n",
        "middleSchoolDF = pd.read_csv(io.StringIO(uploaded[\"middleSchoolData.csv\"].decode(\"utf-8\")))\n",
        "print(\"Shape: \", middleSchoolDF.shape)\n",
        "middleSchoolDF.tail()"
      ],
      "metadata": {
        "colab": {
          "base_uri": "https://localhost:8080/",
          "height": 543
        },
        "id": "d4Fg_KYQmv4y",
        "outputId": "88a3ef06-53c7-4dcf-b79a-2d0b6a345c23"
      },
      "execution_count": 12,
      "outputs": [
        {
          "output_type": "stream",
          "name": "stdout",
          "text": [
            "Shape:  (594, 24)\n"
          ]
        },
        {
          "output_type": "execute_result",
          "data": {
            "text/plain": [
              "        dbn                       school_name  applications  acceptances  \\\n",
              "589  84X538            ICAHN CHARTER SCHOOL 5            20            1   \n",
              "590  84X703  BRONX PREPARATORY CHARTER SCHOOL            22            1   \n",
              "591  84X704       KIPP ACADEMY CHARTER SCHOOL            23            1   \n",
              "592  84X706     HARRIET TUBMAN CHARTER SCHOOL            24            1   \n",
              "593  84X717              ICAHN CHARTER SCHOOL            24            1   \n",
              "\n",
              "     per_pupil_spending  avg_class_size  asian_percent  black_percent  \\\n",
              "589                 NaN             NaN            4.1           58.0   \n",
              "590                 NaN             NaN            0.3           47.7   \n",
              "591                 NaN             NaN            0.2           41.3   \n",
              "592                 NaN             NaN            0.4           62.9   \n",
              "593                 NaN             NaN            1.2           49.8   \n",
              "\n",
              "     hispanic_percent  multiple_percent  ...  effective_school_leadership  \\\n",
              "589              31.0               1.3  ...                         3.38   \n",
              "590              50.5               0.8  ...                         3.56   \n",
              "591              56.5               1.4  ...                         3.01   \n",
              "592              34.6               1.3  ...                          NaN   \n",
              "593              48.3               0.6  ...                         4.21   \n",
              "\n",
              "     strong_family_community_ties  trust  disability_percent  poverty_percent  \\\n",
              "589                          3.38   3.51                 6.9             65.2   \n",
              "590                          3.75   3.66                12.2             82.9   \n",
              "591                          2.15   3.06                17.5             87.4   \n",
              "592                           NaN    NaN                 8.8             79.1   \n",
              "593                          4.60   4.34                 7.3             84.2   \n",
              "\n",
              "     ESL_percent  school_size  student_achievement  reading_scores_exceed  \\\n",
              "589          0.9        319.0                 3.31                   0.33   \n",
              "590          7.8        715.0                 4.33                   0.55   \n",
              "591         10.8       1074.0                 2.98                   0.60   \n",
              "592         11.2        680.0                 2.87                   0.69   \n",
              "593          7.3        329.0                 3.31                   0.66   \n",
              "\n",
              "     math_scores_exceed  \n",
              "589                0.33  \n",
              "590                0.56  \n",
              "591                0.61  \n",
              "592                0.73  \n",
              "593                0.71  \n",
              "\n",
              "[5 rows x 24 columns]"
            ],
            "text/html": [
              "\n",
              "  <div id=\"df-a27a2abf-b170-4ebc-8b5a-3f4cd4ec096e\">\n",
              "    <div class=\"colab-df-container\">\n",
              "      <div>\n",
              "<style scoped>\n",
              "    .dataframe tbody tr th:only-of-type {\n",
              "        vertical-align: middle;\n",
              "    }\n",
              "\n",
              "    .dataframe tbody tr th {\n",
              "        vertical-align: top;\n",
              "    }\n",
              "\n",
              "    .dataframe thead th {\n",
              "        text-align: right;\n",
              "    }\n",
              "</style>\n",
              "<table border=\"1\" class=\"dataframe\">\n",
              "  <thead>\n",
              "    <tr style=\"text-align: right;\">\n",
              "      <th></th>\n",
              "      <th>dbn</th>\n",
              "      <th>school_name</th>\n",
              "      <th>applications</th>\n",
              "      <th>acceptances</th>\n",
              "      <th>per_pupil_spending</th>\n",
              "      <th>avg_class_size</th>\n",
              "      <th>asian_percent</th>\n",
              "      <th>black_percent</th>\n",
              "      <th>hispanic_percent</th>\n",
              "      <th>multiple_percent</th>\n",
              "      <th>...</th>\n",
              "      <th>effective_school_leadership</th>\n",
              "      <th>strong_family_community_ties</th>\n",
              "      <th>trust</th>\n",
              "      <th>disability_percent</th>\n",
              "      <th>poverty_percent</th>\n",
              "      <th>ESL_percent</th>\n",
              "      <th>school_size</th>\n",
              "      <th>student_achievement</th>\n",
              "      <th>reading_scores_exceed</th>\n",
              "      <th>math_scores_exceed</th>\n",
              "    </tr>\n",
              "  </thead>\n",
              "  <tbody>\n",
              "    <tr>\n",
              "      <th>589</th>\n",
              "      <td>84X538</td>\n",
              "      <td>ICAHN CHARTER SCHOOL 5</td>\n",
              "      <td>20</td>\n",
              "      <td>1</td>\n",
              "      <td>NaN</td>\n",
              "      <td>NaN</td>\n",
              "      <td>4.1</td>\n",
              "      <td>58.0</td>\n",
              "      <td>31.0</td>\n",
              "      <td>1.3</td>\n",
              "      <td>...</td>\n",
              "      <td>3.38</td>\n",
              "      <td>3.38</td>\n",
              "      <td>3.51</td>\n",
              "      <td>6.9</td>\n",
              "      <td>65.2</td>\n",
              "      <td>0.9</td>\n",
              "      <td>319.0</td>\n",
              "      <td>3.31</td>\n",
              "      <td>0.33</td>\n",
              "      <td>0.33</td>\n",
              "    </tr>\n",
              "    <tr>\n",
              "      <th>590</th>\n",
              "      <td>84X703</td>\n",
              "      <td>BRONX PREPARATORY CHARTER SCHOOL</td>\n",
              "      <td>22</td>\n",
              "      <td>1</td>\n",
              "      <td>NaN</td>\n",
              "      <td>NaN</td>\n",
              "      <td>0.3</td>\n",
              "      <td>47.7</td>\n",
              "      <td>50.5</td>\n",
              "      <td>0.8</td>\n",
              "      <td>...</td>\n",
              "      <td>3.56</td>\n",
              "      <td>3.75</td>\n",
              "      <td>3.66</td>\n",
              "      <td>12.2</td>\n",
              "      <td>82.9</td>\n",
              "      <td>7.8</td>\n",
              "      <td>715.0</td>\n",
              "      <td>4.33</td>\n",
              "      <td>0.55</td>\n",
              "      <td>0.56</td>\n",
              "    </tr>\n",
              "    <tr>\n",
              "      <th>591</th>\n",
              "      <td>84X704</td>\n",
              "      <td>KIPP ACADEMY CHARTER SCHOOL</td>\n",
              "      <td>23</td>\n",
              "      <td>1</td>\n",
              "      <td>NaN</td>\n",
              "      <td>NaN</td>\n",
              "      <td>0.2</td>\n",
              "      <td>41.3</td>\n",
              "      <td>56.5</td>\n",
              "      <td>1.4</td>\n",
              "      <td>...</td>\n",
              "      <td>3.01</td>\n",
              "      <td>2.15</td>\n",
              "      <td>3.06</td>\n",
              "      <td>17.5</td>\n",
              "      <td>87.4</td>\n",
              "      <td>10.8</td>\n",
              "      <td>1074.0</td>\n",
              "      <td>2.98</td>\n",
              "      <td>0.60</td>\n",
              "      <td>0.61</td>\n",
              "    </tr>\n",
              "    <tr>\n",
              "      <th>592</th>\n",
              "      <td>84X706</td>\n",
              "      <td>HARRIET TUBMAN CHARTER SCHOOL</td>\n",
              "      <td>24</td>\n",
              "      <td>1</td>\n",
              "      <td>NaN</td>\n",
              "      <td>NaN</td>\n",
              "      <td>0.4</td>\n",
              "      <td>62.9</td>\n",
              "      <td>34.6</td>\n",
              "      <td>1.3</td>\n",
              "      <td>...</td>\n",
              "      <td>NaN</td>\n",
              "      <td>NaN</td>\n",
              "      <td>NaN</td>\n",
              "      <td>8.8</td>\n",
              "      <td>79.1</td>\n",
              "      <td>11.2</td>\n",
              "      <td>680.0</td>\n",
              "      <td>2.87</td>\n",
              "      <td>0.69</td>\n",
              "      <td>0.73</td>\n",
              "    </tr>\n",
              "    <tr>\n",
              "      <th>593</th>\n",
              "      <td>84X717</td>\n",
              "      <td>ICAHN CHARTER SCHOOL</td>\n",
              "      <td>24</td>\n",
              "      <td>1</td>\n",
              "      <td>NaN</td>\n",
              "      <td>NaN</td>\n",
              "      <td>1.2</td>\n",
              "      <td>49.8</td>\n",
              "      <td>48.3</td>\n",
              "      <td>0.6</td>\n",
              "      <td>...</td>\n",
              "      <td>4.21</td>\n",
              "      <td>4.60</td>\n",
              "      <td>4.34</td>\n",
              "      <td>7.3</td>\n",
              "      <td>84.2</td>\n",
              "      <td>7.3</td>\n",
              "      <td>329.0</td>\n",
              "      <td>3.31</td>\n",
              "      <td>0.66</td>\n",
              "      <td>0.71</td>\n",
              "    </tr>\n",
              "  </tbody>\n",
              "</table>\n",
              "<p>5 rows × 24 columns</p>\n",
              "</div>\n",
              "      <button class=\"colab-df-convert\" onclick=\"convertToInteractive('df-a27a2abf-b170-4ebc-8b5a-3f4cd4ec096e')\"\n",
              "              title=\"Convert this dataframe to an interactive table.\"\n",
              "              style=\"display:none;\">\n",
              "        \n",
              "  <svg xmlns=\"http://www.w3.org/2000/svg\" height=\"24px\"viewBox=\"0 0 24 24\"\n",
              "       width=\"24px\">\n",
              "    <path d=\"M0 0h24v24H0V0z\" fill=\"none\"/>\n",
              "    <path d=\"M18.56 5.44l.94 2.06.94-2.06 2.06-.94-2.06-.94-.94-2.06-.94 2.06-2.06.94zm-11 1L8.5 8.5l.94-2.06 2.06-.94-2.06-.94L8.5 2.5l-.94 2.06-2.06.94zm10 10l.94 2.06.94-2.06 2.06-.94-2.06-.94-.94-2.06-.94 2.06-2.06.94z\"/><path d=\"M17.41 7.96l-1.37-1.37c-.4-.4-.92-.59-1.43-.59-.52 0-1.04.2-1.43.59L10.3 9.45l-7.72 7.72c-.78.78-.78 2.05 0 2.83L4 21.41c.39.39.9.59 1.41.59.51 0 1.02-.2 1.41-.59l7.78-7.78 2.81-2.81c.8-.78.8-2.07 0-2.86zM5.41 20L4 18.59l7.72-7.72 1.47 1.35L5.41 20z\"/>\n",
              "  </svg>\n",
              "      </button>\n",
              "      \n",
              "  <style>\n",
              "    .colab-df-container {\n",
              "      display:flex;\n",
              "      flex-wrap:wrap;\n",
              "      gap: 12px;\n",
              "    }\n",
              "\n",
              "    .colab-df-convert {\n",
              "      background-color: #E8F0FE;\n",
              "      border: none;\n",
              "      border-radius: 50%;\n",
              "      cursor: pointer;\n",
              "      display: none;\n",
              "      fill: #1967D2;\n",
              "      height: 32px;\n",
              "      padding: 0 0 0 0;\n",
              "      width: 32px;\n",
              "    }\n",
              "\n",
              "    .colab-df-convert:hover {\n",
              "      background-color: #E2EBFA;\n",
              "      box-shadow: 0px 1px 2px rgba(60, 64, 67, 0.3), 0px 1px 3px 1px rgba(60, 64, 67, 0.15);\n",
              "      fill: #174EA6;\n",
              "    }\n",
              "\n",
              "    [theme=dark] .colab-df-convert {\n",
              "      background-color: #3B4455;\n",
              "      fill: #D2E3FC;\n",
              "    }\n",
              "\n",
              "    [theme=dark] .colab-df-convert:hover {\n",
              "      background-color: #434B5C;\n",
              "      box-shadow: 0px 1px 3px 1px rgba(0, 0, 0, 0.15);\n",
              "      filter: drop-shadow(0px 1px 2px rgba(0, 0, 0, 0.3));\n",
              "      fill: #FFFFFF;\n",
              "    }\n",
              "  </style>\n",
              "\n",
              "      <script>\n",
              "        const buttonEl =\n",
              "          document.querySelector('#df-a27a2abf-b170-4ebc-8b5a-3f4cd4ec096e button.colab-df-convert');\n",
              "        buttonEl.style.display =\n",
              "          google.colab.kernel.accessAllowed ? 'block' : 'none';\n",
              "\n",
              "        async function convertToInteractive(key) {\n",
              "          const element = document.querySelector('#df-a27a2abf-b170-4ebc-8b5a-3f4cd4ec096e');\n",
              "          const dataTable =\n",
              "            await google.colab.kernel.invokeFunction('convertToInteractive',\n",
              "                                                     [key], {});\n",
              "          if (!dataTable) return;\n",
              "\n",
              "          const docLinkHtml = 'Like what you see? Visit the ' +\n",
              "            '<a target=\"_blank\" href=https://colab.research.google.com/notebooks/data_table.ipynb>data table notebook</a>'\n",
              "            + ' to learn more about interactive tables.';\n",
              "          element.innerHTML = '';\n",
              "          dataTable['output_type'] = 'display_data';\n",
              "          await google.colab.output.renderOutput(dataTable, element);\n",
              "          const docLink = document.createElement('div');\n",
              "          docLink.innerHTML = docLinkHtml;\n",
              "          element.appendChild(docLink);\n",
              "        }\n",
              "      </script>\n",
              "    </div>\n",
              "  </div>\n",
              "  "
            ]
          },
          "metadata": {},
          "execution_count": 12
        }
      ]
    },
    {
      "cell_type": "markdown",
      "source": [
        "For convenience, here is a table of variable definitions:\n",
        "\n",
        "| Column Label    | Description |\n",
        "| ----------- | ----------- |\n",
        "| A - B     |  NYC DOE school code and name respectively   |\n",
        "| C   |  Number of applications to a HSPHS originating from school   |\n",
        "| D  |  Number of applicants to a HSPHS accepted from school      |\n",
        "| E   |  Per student spending in $    |\n",
        "| F  |   Average class size    |\n",
        "| G - K   |   Self-described ethnic identity of student body    |\n",
        "| L - Q  |  Average rating of \"school climte\" factors perceived by students      |\n",
        "| R   |  Percentage of students evaluated as disabled     |\n",
        "| S   |  Percentage of students living in households below poverty line       |\n",
        "| T   |  Percentage of ESL students      |\n",
        "| U   |  School size (number of students in entire school)      |\n",
        "| V   |   Average student achievement on state-wide standardized test      |\n",
        "| W - X  |   Proportion of students exceeding state-wide expectations in reading and math     |"
      ],
      "metadata": {
        "id": "-a0Y_K7bpTdq"
      }
    },
    {
      "cell_type": "markdown",
      "source": [
        "# 1. Correlation Between Raw Number of Applications to HSPHS Admission"
      ],
      "metadata": {
        "id": "FeXdt5fWhbxB"
      }
    },
    {
      "cell_type": "markdown",
      "source": [
        "I wanted to find if there was any correlation between raw number of applications and admissions to a HSPHS. I then plotted the relation between these two features and then conducted a simple statistical overview using **Pearson's r**, or the Pearson product-moment correlation coefficient. "
      ],
      "metadata": {
        "id": "iPeWWxz7hj0c"
      }
    },
    {
      "cell_type": "code",
      "source": [
        "applications = middleSchoolDF[\"applications\"]\n",
        "acceptances = middleSchoolDF[\"acceptances\"]\n",
        "r = np.corrcoef(applications,acceptances)\n",
        "r"
      ],
      "metadata": {
        "colab": {
          "base_uri": "https://localhost:8080/"
        },
        "id": "HaDqBCkxsgJv",
        "outputId": "9ab3f5d9-d68b-4fd1-f457-64a1d93f06de"
      },
      "execution_count": 17,
      "outputs": [
        {
          "output_type": "execute_result",
          "data": {
            "text/plain": [
              "array([[1.        , 0.80172654],\n",
              "       [0.80172654, 1.        ]])"
            ]
          },
          "metadata": {},
          "execution_count": 17
        }
      ]
    },
    {
      "cell_type": "markdown",
      "source": [
        "I obtained a Pearson's correlation coefficient of approximately **0.802** suggesting that there is a correlation between raw number of applications and subsequent admissions to a HSPHS. Understanding that this potentially did not tell the complete picture, I moved to plot the correlation and continue on with further analysis."
      ],
      "metadata": {
        "id": "WaDhXBabuEWg"
      }
    },
    {
      "cell_type": "code",
      "source": [
        "plt.plot(applications, acceptances, \"o\", markersize = 2.5)\n",
        "plt.title(\"Correlation Between HSPHS Admissions and Applications\")\n",
        "plt.xlim(0, (max(applications) + 25))\n",
        "plt.ylim(0, (max(acceptances) + 25))\n",
        "plt.xlabel(\"Applications\")\n",
        "plt.ylabel(\"Acceptances\");"
      ],
      "metadata": {
        "colab": {
          "base_uri": "https://localhost:8080/",
          "height": 295
        },
        "id": "YYcQyy_HuC0R",
        "outputId": "541df5b0-24e7-49f3-c9bb-ecdea7cd781f"
      },
      "execution_count": 25,
      "outputs": [
        {
          "output_type": "display_data",
          "data": {
            "text/plain": [
              "<Figure size 432x288 with 1 Axes>"
            ],
            "image/png": "[encoded data removed]"
          },
          "metadata": {
            "needs_background": "light"
          }
        }
      ]
    },
    {
      "cell_type": "markdown",
      "source": [
        "# 2. Comparing Predictors of Admissions: Raw Applications vs. Application Rate"
      ],
      "metadata": {
        "id": "wQFwjmr6hoUl"
      }
    },
    {
      "cell_type": "markdown",
      "source": [
        "I next wanted to evaluate which was a better predictor of admission to a HSPHS, comparing between sheer number of applications or the actual application rate of the school. This feature of the data was more complicated as some schools did not have a application percentage therefore some simple pre-processing of the data needed to be done before analysis. This was done by simply setting application percentage to be 0 when given either a zero or null value under assumption that no students applied to a HSPHS."
      ],
      "metadata": {
        "id": "AgqosLAGyXzC"
      }
    },
    {
      "cell_type": "code",
      "source": [
        "schoolSize = (middleSchoolDF[\"school_size\"])\n",
        "#Instantiate two variables to hold values within dataframes for both application and acceptance rate\n",
        "applicationRate = list()\n",
        "\n",
        "#while loop to iterate and append new lists with values for application and acceptance rate\n",
        "i = 0\n",
        "while i < len(applications):\n",
        "    #if loop to iterate to prevent divide by 0 error when there are no applications from a school\n",
        "    if applications[i] == 0:\n",
        "        applicationRate.append(0)\n",
        "        i += 1\n",
        "    else: \n",
        "        appRate = (applications[i] / schoolSize[i])\n",
        "        #adds rate values to lists multiplied by 100 to easily visualize as a percentage\n",
        "        applicationRate.append(appRate * 100)\n",
        "        i += 1"
      ],
      "metadata": {
        "id": "X00wHZfmyyaL"
      },
      "execution_count": 29,
      "outputs": []
    },
    {
      "cell_type": "markdown",
      "source": [
        "We already found Pearson's correlation coefficient previously solely for sheer number of applications. Therefore I then created a Pandas DataFrame with the data containing application and acceptance rates, pre-processing any 0 or null values into NaNs for accurate processing, and then found another Pearson's correlation coefficient for the two variables based on percentages within applications and admissions."
      ],
      "metadata": {
        "id": "ib2vgtTp1GMf"
      }
    },
    {
      "cell_type": "code",
      "source": [
        "appToAcceptRate = np.column_stack((applicationRate, acceptances))\n",
        "rateDF = pd.DataFrame(appToAcceptRate, columns = [\"Application Rate\", \"Acceptances\"])\n",
        "\n",
        "#Pre-process the Rate DataFrame by converting any zero or invalid values into NaNs for accurate processing\n",
        "rateDF[rateDF < 0] = np.nan\n",
        "\n",
        "#Add school names to the first column of DataFrame for easier analysis\n",
        "rateDF.insert(0, \"School Name\", middleSchoolDF[\"school_name\"], True)\n",
        "rateDF.head(10)"
      ],
      "metadata": {
        "colab": {
          "base_uri": "https://localhost:8080/",
          "height": 442
        },
        "id": "B0_Ef58KzOqV",
        "outputId": "4c2ff57a-4ba1-4cb7-aa49-ad2c5e9ea1e4"
      },
      "execution_count": 52,
      "outputs": [
        {
          "output_type": "execute_result",
          "data": {
            "text/plain": [
              "                                         School Name  Application Rate  \\\n",
              "0                     P.S. 034 FRANKLIN D. ROOSEVELT          1.801802   \n",
              "1                             P.S. 140 NATHAN STRAUS          1.617251   \n",
              "2                               P.S. 184M SHUANG WEN          9.795322   \n",
              "3                         P.S. 188 THE ISLAND SCHOOL          0.000000   \n",
              "4              TECHNOLOGY, ARTS, AND SCIENCES STUDIO         10.377358   \n",
              "5              UNIVERSITY NEIGHBORHOOD MIDDLE SCHOOL          6.403941   \n",
              "6                          SCHOOL FOR GLOBAL LEADERS          7.421875   \n",
              "7                         EAST SIDE COMMUNITY SCHOOL          2.342606   \n",
              "8  NEW EXPLORATIONS INTO SCIENCE, TECHNOLOGY AND ...          7.266436   \n",
              "9                      TOMPKINS SQUARE MIDDLE SCHOOL         17.694370   \n",
              "\n",
              "   Acceptances  \n",
              "0          0.0  \n",
              "1          0.0  \n",
              "2         23.0  \n",
              "3          0.0  \n",
              "4          0.0  \n",
              "5          0.0  \n",
              "6          1.0  \n",
              "7          1.0  \n",
              "8         91.0  \n",
              "9         14.0  "
            ],
            "text/html": [
              "\n",
              "  <div id=\"df-9b2d255a-f842-45c4-bccd-420ecfb88c56\">\n",
              "    <div class=\"colab-df-container\">\n",
              "      <div>\n",
              "<style scoped>\n",
              "    .dataframe tbody tr th:only-of-type {\n",
              "        vertical-align: middle;\n",
              "    }\n",
              "\n",
              "    .dataframe tbody tr th {\n",
              "        vertical-align: top;\n",
              "    }\n",
              "\n",
              "    .dataframe thead th {\n",
              "        text-align: right;\n",
              "    }\n",
              "</style>\n",
              "<table border=\"1\" class=\"dataframe\">\n",
              "  <thead>\n",
              "    <tr style=\"text-align: right;\">\n",
              "      <th></th>\n",
              "      <th>School Name</th>\n",
              "      <th>Application Rate</th>\n",
              "      <th>Acceptances</th>\n",
              "    </tr>\n",
              "  </thead>\n",
              "  <tbody>\n",
              "    <tr>\n",
              "      <th>0</th>\n",
              "      <td>P.S. 034 FRANKLIN D. ROOSEVELT</td>\n",
              "      <td>1.801802</td>\n",
              "      <td>0.0</td>\n",
              "    </tr>\n",
              "    <tr>\n",
              "      <th>1</th>\n",
              "      <td>P.S. 140 NATHAN STRAUS</td>\n",
              "      <td>1.617251</td>\n",
              "      <td>0.0</td>\n",
              "    </tr>\n",
              "    <tr>\n",
              "      <th>2</th>\n",
              "      <td>P.S. 184M SHUANG WEN</td>\n",
              "      <td>9.795322</td>\n",
              "      <td>23.0</td>\n",
              "    </tr>\n",
              "    <tr>\n",
              "      <th>3</th>\n",
              "      <td>P.S. 188 THE ISLAND SCHOOL</td>\n",
              "      <td>0.000000</td>\n",
              "      <td>0.0</td>\n",
              "    </tr>\n",
              "    <tr>\n",
              "      <th>4</th>\n",
              "      <td>TECHNOLOGY, ARTS, AND SCIENCES STUDIO</td>\n",
              "      <td>10.377358</td>\n",
              "      <td>0.0</td>\n",
              "    </tr>\n",
              "    <tr>\n",
              "      <th>5</th>\n",
              "      <td>UNIVERSITY NEIGHBORHOOD MIDDLE SCHOOL</td>\n",
              "      <td>6.403941</td>\n",
              "      <td>0.0</td>\n",
              "    </tr>\n",
              "    <tr>\n",
              "      <th>6</th>\n",
              "      <td>SCHOOL FOR GLOBAL LEADERS</td>\n",
              "      <td>7.421875</td>\n",
              "      <td>1.0</td>\n",
              "    </tr>\n",
              "    <tr>\n",
              "      <th>7</th>\n",
              "      <td>EAST SIDE COMMUNITY SCHOOL</td>\n",
              "      <td>2.342606</td>\n",
              "      <td>1.0</td>\n",
              "    </tr>\n",
              "    <tr>\n",
              "      <th>8</th>\n",
              "      <td>NEW EXPLORATIONS INTO SCIENCE, TECHNOLOGY AND ...</td>\n",
              "      <td>7.266436</td>\n",
              "      <td>91.0</td>\n",
              "    </tr>\n",
              "    <tr>\n",
              "      <th>9</th>\n",
              "      <td>TOMPKINS SQUARE MIDDLE SCHOOL</td>\n",
              "      <td>17.694370</td>\n",
              "      <td>14.0</td>\n",
              "    </tr>\n",
              "  </tbody>\n",
              "</table>\n",
              "</div>\n",
              "      <button class=\"colab-df-convert\" onclick=\"convertToInteractive('df-9b2d255a-f842-45c4-bccd-420ecfb88c56')\"\n",
              "              title=\"Convert this dataframe to an interactive table.\"\n",
              "              style=\"display:none;\">\n",
              "        \n",
              "  <svg xmlns=\"http://www.w3.org/2000/svg\" height=\"24px\"viewBox=\"0 0 24 24\"\n",
              "       width=\"24px\">\n",
              "    <path d=\"M0 0h24v24H0V0z\" fill=\"none\"/>\n",
              "    <path d=\"M18.56 5.44l.94 2.06.94-2.06 2.06-.94-2.06-.94-.94-2.06-.94 2.06-2.06.94zm-11 1L8.5 8.5l.94-2.06 2.06-.94-2.06-.94L8.5 2.5l-.94 2.06-2.06.94zm10 10l.94 2.06.94-2.06 2.06-.94-2.06-.94-.94-2.06-.94 2.06-2.06.94z\"/><path d=\"M17.41 7.96l-1.37-1.37c-.4-.4-.92-.59-1.43-.59-.52 0-1.04.2-1.43.59L10.3 9.45l-7.72 7.72c-.78.78-.78 2.05 0 2.83L4 21.41c.39.39.9.59 1.41.59.51 0 1.02-.2 1.41-.59l7.78-7.78 2.81-2.81c.8-.78.8-2.07 0-2.86zM5.41 20L4 18.59l7.72-7.72 1.47 1.35L5.41 20z\"/>\n",
              "  </svg>\n",
              "      </button>\n",
              "      \n",
              "  <style>\n",
              "    .colab-df-container {\n",
              "      display:flex;\n",
              "      flex-wrap:wrap;\n",
              "      gap: 12px;\n",
              "    }\n",
              "\n",
              "    .colab-df-convert {\n",
              "      background-color: #E8F0FE;\n",
              "      border: none;\n",
              "      border-radius: 50%;\n",
              "      cursor: pointer;\n",
              "      display: none;\n",
              "      fill: #1967D2;\n",
              "      height: 32px;\n",
              "      padding: 0 0 0 0;\n",
              "      width: 32px;\n",
              "    }\n",
              "\n",
              "    .colab-df-convert:hover {\n",
              "      background-color: #E2EBFA;\n",
              "      box-shadow: 0px 1px 2px rgba(60, 64, 67, 0.3), 0px 1px 3px 1px rgba(60, 64, 67, 0.15);\n",
              "      fill: #174EA6;\n",
              "    }\n",
              "\n",
              "    [theme=dark] .colab-df-convert {\n",
              "      background-color: #3B4455;\n",
              "      fill: #D2E3FC;\n",
              "    }\n",
              "\n",
              "    [theme=dark] .colab-df-convert:hover {\n",
              "      background-color: #434B5C;\n",
              "      box-shadow: 0px 1px 3px 1px rgba(0, 0, 0, 0.15);\n",
              "      filter: drop-shadow(0px 1px 2px rgba(0, 0, 0, 0.3));\n",
              "      fill: #FFFFFF;\n",
              "    }\n",
              "  </style>\n",
              "\n",
              "      <script>\n",
              "        const buttonEl =\n",
              "          document.querySelector('#df-9b2d255a-f842-45c4-bccd-420ecfb88c56 button.colab-df-convert');\n",
              "        buttonEl.style.display =\n",
              "          google.colab.kernel.accessAllowed ? 'block' : 'none';\n",
              "\n",
              "        async function convertToInteractive(key) {\n",
              "          const element = document.querySelector('#df-9b2d255a-f842-45c4-bccd-420ecfb88c56');\n",
              "          const dataTable =\n",
              "            await google.colab.kernel.invokeFunction('convertToInteractive',\n",
              "                                                     [key], {});\n",
              "          if (!dataTable) return;\n",
              "\n",
              "          const docLinkHtml = 'Like what you see? Visit the ' +\n",
              "            '<a target=\"_blank\" href=https://colab.research.google.com/notebooks/data_table.ipynb>data table notebook</a>'\n",
              "            + ' to learn more about interactive tables.';\n",
              "          element.innerHTML = '';\n",
              "          dataTable['output_type'] = 'display_data';\n",
              "          await google.colab.output.renderOutput(dataTable, element);\n",
              "          const docLink = document.createElement('div');\n",
              "          docLink.innerHTML = docLinkHtml;\n",
              "          element.appendChild(docLink);\n",
              "        }\n",
              "      </script>\n",
              "    </div>\n",
              "  </div>\n",
              "  "
            ]
          },
          "metadata": {},
          "execution_count": 52
        }
      ]
    },
    {
      "cell_type": "code",
      "source": [
        "#Finding Pearson's Correlation Coefficient for the two variables by rate percentage\n",
        "r_byPercentage = rateDF.corr()\n",
        "r_byPercentage"
      ],
      "metadata": {
        "colab": {
          "base_uri": "https://localhost:8080/",
          "height": 112
        },
        "id": "xhG8MoLC2I_p",
        "outputId": "9eae7ffb-64fc-4fdd-dabe-8203ae4b1717"
      },
      "execution_count": 51,
      "outputs": [
        {
          "output_type": "execute_result",
          "data": {
            "text/plain": [
              "                  Application Rate  Acceptances\n",
              "Application Rate          1.000000     0.658751\n",
              "Acceptances               0.658751     1.000000"
            ],
            "text/html": [
              "\n",
              "  <div id=\"df-5cf37c7a-6385-4337-bb5f-27bf30247853\">\n",
              "    <div class=\"colab-df-container\">\n",
              "      <div>\n",
              "<style scoped>\n",
              "    .dataframe tbody tr th:only-of-type {\n",
              "        vertical-align: middle;\n",
              "    }\n",
              "\n",
              "    .dataframe tbody tr th {\n",
              "        vertical-align: top;\n",
              "    }\n",
              "\n",
              "    .dataframe thead th {\n",
              "        text-align: right;\n",
              "    }\n",
              "</style>\n",
              "<table border=\"1\" class=\"dataframe\">\n",
              "  <thead>\n",
              "    <tr style=\"text-align: right;\">\n",
              "      <th></th>\n",
              "      <th>Application Rate</th>\n",
              "      <th>Acceptances</th>\n",
              "    </tr>\n",
              "  </thead>\n",
              "  <tbody>\n",
              "    <tr>\n",
              "      <th>Application Rate</th>\n",
              "      <td>1.000000</td>\n",
              "      <td>0.658751</td>\n",
              "    </tr>\n",
              "    <tr>\n",
              "      <th>Acceptances</th>\n",
              "      <td>0.658751</td>\n",
              "      <td>1.000000</td>\n",
              "    </tr>\n",
              "  </tbody>\n",
              "</table>\n",
              "</div>\n",
              "      <button class=\"colab-df-convert\" onclick=\"convertToInteractive('df-5cf37c7a-6385-4337-bb5f-27bf30247853')\"\n",
              "              title=\"Convert this dataframe to an interactive table.\"\n",
              "              style=\"display:none;\">\n",
              "        \n",
              "  <svg xmlns=\"http://www.w3.org/2000/svg\" height=\"24px\"viewBox=\"0 0 24 24\"\n",
              "       width=\"24px\">\n",
              "    <path d=\"M0 0h24v24H0V0z\" fill=\"none\"/>\n",
              "    <path d=\"M18.56 5.44l.94 2.06.94-2.06 2.06-.94-2.06-.94-.94-2.06-.94 2.06-2.06.94zm-11 1L8.5 8.5l.94-2.06 2.06-.94-2.06-.94L8.5 2.5l-.94 2.06-2.06.94zm10 10l.94 2.06.94-2.06 2.06-.94-2.06-.94-.94-2.06-.94 2.06-2.06.94z\"/><path d=\"M17.41 7.96l-1.37-1.37c-.4-.4-.92-.59-1.43-.59-.52 0-1.04.2-1.43.59L10.3 9.45l-7.72 7.72c-.78.78-.78 2.05 0 2.83L4 21.41c.39.39.9.59 1.41.59.51 0 1.02-.2 1.41-.59l7.78-7.78 2.81-2.81c.8-.78.8-2.07 0-2.86zM5.41 20L4 18.59l7.72-7.72 1.47 1.35L5.41 20z\"/>\n",
              "  </svg>\n",
              "      </button>\n",
              "      \n",
              "  <style>\n",
              "    .colab-df-container {\n",
              "      display:flex;\n",
              "      flex-wrap:wrap;\n",
              "      gap: 12px;\n",
              "    }\n",
              "\n",
              "    .colab-df-convert {\n",
              "      background-color: #E8F0FE;\n",
              "      border: none;\n",
              "      border-radius: 50%;\n",
              "      cursor: pointer;\n",
              "      display: none;\n",
              "      fill: #1967D2;\n",
              "      height: 32px;\n",
              "      padding: 0 0 0 0;\n",
              "      width: 32px;\n",
              "    }\n",
              "\n",
              "    .colab-df-convert:hover {\n",
              "      background-color: #E2EBFA;\n",
              "      box-shadow: 0px 1px 2px rgba(60, 64, 67, 0.3), 0px 1px 3px 1px rgba(60, 64, 67, 0.15);\n",
              "      fill: #174EA6;\n",
              "    }\n",
              "\n",
              "    [theme=dark] .colab-df-convert {\n",
              "      background-color: #3B4455;\n",
              "      fill: #D2E3FC;\n",
              "    }\n",
              "\n",
              "    [theme=dark] .colab-df-convert:hover {\n",
              "      background-color: #434B5C;\n",
              "      box-shadow: 0px 1px 3px 1px rgba(0, 0, 0, 0.15);\n",
              "      filter: drop-shadow(0px 1px 2px rgba(0, 0, 0, 0.3));\n",
              "      fill: #FFFFFF;\n",
              "    }\n",
              "  </style>\n",
              "\n",
              "      <script>\n",
              "        const buttonEl =\n",
              "          document.querySelector('#df-5cf37c7a-6385-4337-bb5f-27bf30247853 button.colab-df-convert');\n",
              "        buttonEl.style.display =\n",
              "          google.colab.kernel.accessAllowed ? 'block' : 'none';\n",
              "\n",
              "        async function convertToInteractive(key) {\n",
              "          const element = document.querySelector('#df-5cf37c7a-6385-4337-bb5f-27bf30247853');\n",
              "          const dataTable =\n",
              "            await google.colab.kernel.invokeFunction('convertToInteractive',\n",
              "                                                     [key], {});\n",
              "          if (!dataTable) return;\n",
              "\n",
              "          const docLinkHtml = 'Like what you see? Visit the ' +\n",
              "            '<a target=\"_blank\" href=https://colab.research.google.com/notebooks/data_table.ipynb>data table notebook</a>'\n",
              "            + ' to learn more about interactive tables.';\n",
              "          element.innerHTML = '';\n",
              "          dataTable['output_type'] = 'display_data';\n",
              "          await google.colab.output.renderOutput(dataTable, element);\n",
              "          const docLink = document.createElement('div');\n",
              "          docLink.innerHTML = docLinkHtml;\n",
              "          element.appendChild(docLink);\n",
              "        }\n",
              "      </script>\n",
              "    </div>\n",
              "  </div>\n",
              "  "
            ]
          },
          "metadata": {},
          "execution_count": 51
        }
      ]
    },
    {
      "cell_type": "markdown",
      "source": [
        "Compared to the Pearson's Correlation Coefficient of approximately **0.802** when comparing raw application numbers to number of acceptances, we see that the correlation between application rate and number of acceptances, which sits at around **0.659**, is considerably lower. Therefore raw numbers of applications is still the better predictor of admissions| to a HSPHS when comparing the two. I then moved to plot the correlation of the relationship between admissions and application rate.\n"
      ],
      "metadata": {
        "id": "56jzIFM15SNJ"
      }
    },
    {
      "cell_type": "code",
      "source": [
        "plt.plot(applicationRate, acceptances, \"o\", markersize = 3)\n",
        "plt.title(\"Correlation Between HSPHS Admissions and Application Rate\")\n",
        "plt.xlim(0, (max(applicationRate) + 5))\n",
        "plt.ylim(0, (max(acceptances) + 25))\n",
        "plt.xlabel(\"Application Rate (%)\")\n",
        "plt.ylabel(\"Acceptances\");"
      ],
      "metadata": {
        "colab": {
          "base_uri": "https://localhost:8080/",
          "height": 295
        },
        "id": "ldY48nyw4wLo",
        "outputId": "5cae9d88-0631-42af-950e-caa58cbbd199"
      },
      "execution_count": 61,
      "outputs": [
        {
          "output_type": "display_data",
          "data": {
            "text/plain": [
              "<Figure size 432x288 with 1 Axes>"
            ],
            "image/png": "[encoded data removed]"
          },
          "metadata": {
            "needs_background": "light"
          }
        }
      ]
    },
    {
      "cell_type": "markdown",
      "source": [
        "# 3. Comparing Per Student Odds of HSPHS Acceptance by School"
      ],
      "metadata": {
        "id": "1TguaIEMhtsP"
      }
    },
    {
      "cell_type": "markdown",
      "source": [
        "I wanted to determine which school within the dataset had the best \"per-student\" odds of sending a student to a HSPHS. \"Per-student\" odds was calculated by simply determing which school had the highest percent of students within that school who went on to attend a HSPHS."
      ],
      "metadata": {
        "id": "jjL4OPEU9tz8"
      }
    },
    {
      "cell_type": "code",
      "source": [
        "#Make a list of acceptance rate per student for each individual school\n",
        "schoolAcceptRate = list()\n",
        "\n",
        "#For loop to iterate through and append acceptance rates to each school\n",
        "for i in range(len(schoolSize)):\n",
        "    if schoolSize[i] == 0:\n",
        "      schoolAcceptRate.append(0)\n",
        "      i += 1\n",
        "    else:\n",
        "      acceptRate = acceptances[i] / schoolSize[i]\n",
        "      schoolAcceptRate.append(acceptRate * 100)\n",
        "      i += 1\n",
        "\n",
        "#For loop to iterate through and record which school has the highest acceptance rate\n",
        "maxAcceptRate = 0\n",
        "schoolIndex = 0\n",
        "i = 0\n",
        "while i < len(schoolAcceptRate):\n",
        "  if schoolAcceptRate[i] > maxAcceptRate:\n",
        "    maxAcceptRate = schoolAcceptRate[i]\n",
        "    schoolIndex = i\n",
        "    i += 1\n",
        "  else:\n",
        "    i += 1\n",
        "\n",
        "print(\"The school with the best 'per-student' odds of HSPHS acceptance is \" + (middleSchoolDF.iloc[schoolIndex][\"school_name\"])\n",
        "    + \"\\nwith a student acceptance of \" + '{:.2f}'.format(maxAcceptRate) + \"%.\")"
      ],
      "metadata": {
        "colab": {
          "base_uri": "https://localhost:8080/"
        },
        "id": "q_Zu7tFM9CkA",
        "outputId": "1116a390-3ebf-440a-d0f1-ce7322787731"
      },
      "execution_count": 74,
      "outputs": [
        {
          "output_type": "stream",
          "name": "stdout",
          "text": [
            "The school with the best 'per-student' odds of HSPHS acceptance is THE CHRISTA MCAULIFFE SCHOOL\\I.S. 187\n",
            "with a student acceptance of 23.48%.\n"
          ]
        }
      ]
    },
    {
      "cell_type": "markdown",
      "source": [
        "# 4. Comparing Student Perception and Objective School Performance"
      ],
      "metadata": {
        "id": "HA0ZMSoshxjR"
      }
    },
    {
      "cell_type": "markdown",
      "source": [
        "I intended to determine and distinguish if there was a relationship between how students perceived their schools and how the school performed objectively within objective measures of student achievement. I did this by first pre-processing relevant data and then \n",
        "establishing predictors based on the relevant features within the dataset."
      ],
      "metadata": {
        "id": "ET4YepvoAauQ"
      }
    },
    {
      "cell_type": "code",
      "source": [
        "predictorsDF = middleSchoolDF[[\"rigorous_instruction\", \"collaborative_teachers\", \"supportive_environment\", \"effective_school_leadership\",\n",
        "                   \"strong_family_community_ties\", \"trust\",\"student_achievement\", \"reading_scores_exceed\", \"math_scores_exceed\"]]\n",
        "#Simple pre-processing to remove NaN values within the DataFrame\n",
        "predictorsDF = np.nan_to_num(predictorsDF)"
      ],
      "metadata": {
        "id": "gfrdW3PLAX5U"
      },
      "execution_count": 83,
      "outputs": []
    },
    {
      "cell_type": "markdown",
      "source": [
        "In order to understand feature analysis, I decided I would first want to run the data through a data visualization tool. I decided on a colored representation of correlation as I decided it would have the best application to the current data, as I currently had scalar values which I wanted to map a visualization for. To accomplish this, I once again calcualted the Pearson's Correlation Coefficient between all relevant features. I then utilized a colorbar to visualize the weight that each feature had to the correlation coefficient to establish how each attribute affected relevant features."
      ],
      "metadata": {
        "id": "d7xdYd-vBeYR"
      }
    },
    {
      "cell_type": "code",
      "source": [
        "r = np.corrcoef(predictorsDF,rowvar=False)\n",
        "plt.imshow(r)\n",
        "plt.colorbar();"
      ],
      "metadata": {
        "colab": {
          "base_uri": "https://localhost:8080/",
          "height": 269
        },
        "id": "T353zAgJ-eva",
        "outputId": "a6f39ace-8381-43b1-f0c3-e1ca9f3e198d"
      },
      "execution_count": 88,
      "outputs": [
        {
          "output_type": "display_data",
          "data": {
            "text/plain": [
              "<Figure size 432x288 with 2 Axes>"
            ],
            "image/png": "[encoded data removed]"
          },
          "metadata": {
            "needs_background": "light"
          }
        }
      ]
    },
    {
      "cell_type": "markdown",
      "source": [
        "| Feature Label    | Feature Attribute |\n",
        "| ----------- | ----------- |\n",
        "| 0 |  Rigor of Instruction   |\n",
        "| 1 |  Student-Teacher Collaboration |\n",
        "| 2 |  Suppportiveness of Environment    |\n",
        "| 3 |  Effectiveness of School Leadership   |\n",
        "| 4 |  Strong Family and/or Community Ties    |\n",
        "| 5 |  Trust within and in the School    |\n",
        "| 6 |  OBJECTIVE MEASURE: Student Achievement   |\n",
        "| 7 |  OBJECTIVE MEASURE: Students Exceeding Reading Scores    |\n",
        "| 8 |  OBJECTIVE MEASURE: Students Exceeding Math Scores     |"
      ],
      "metadata": {
        "id": "8L9WO-ZuD5Kx"
      }
    },
    {
      "cell_type": "markdown",
      "source": [
        "I had originally wanted to continue feature analysis by running the data through **PCA (Principal Components Analysis)** however given even the visualization showing that there is little correlation between how students perceive their school and how the school objectively performs, I decided the PCA was not necessary in this case."
      ],
      "metadata": {
        "id": "zuAHbeG3EqR5"
      }
    },
    {
      "cell_type": "markdown",
      "source": [
        "# 5. Evaluating How School Spending Influences HSPHS Acceptance Rate"
      ],
      "metadata": {
        "id": "F3a3hEychz6E"
      }
    },
    {
      "cell_type": "markdown",
      "source": [
        "Chi-Squared **($ X^{2} $)** tests are frequently used in the field of statistics and data science to determine whether there is a statistically significant difference between the expected frequences and the actual observed frequencies of an outcome within a contingency table. I made the choice to evaluate whether levels of school funding affected acceptance rates to a HSPHS with the null hypothesis $ H_{0} $ in this case being that levels of funding did not contribute to HSPHS acceptance in a statistically significant way."
      ],
      "metadata": {
        "id": "XLrSdjz0GRVE"
      }
    },
    {
      "cell_type": "code",
      "source": [
        "#Create a new DataFrame comparing funding per student and acceptance to a HSPHS\n",
        "hypothesisDF = middleSchoolDF[[\"per_pupil_spending\", \"applications\", \"acceptances\"]]\n",
        "hypothesisDF[\"acceptance_rate\"] = (hypothesisDF.acceptances / hypothesisDF.applications) * 100\n",
        "\n",
        "#Calculate median spending within each of the schools\n",
        "medianSpending = hypothesisDF.per_pupil_spending.median()\n",
        "\n",
        "#Separate the schools into categorical data using labels \"Lesser Funding\" or \"Greater Funding\"\n",
        "hypothesisDF.per_pupil_spending[middleSchoolDF.per_pupil_spending <= medianSpending] = \"Lesser Funding\"\n",
        "hypothesisDF.per_pupil_spending[middleSchoolDF.per_pupil_spending > medianSpending] = \"Greater Funding\"\n",
        "\n",
        "#Likewise separate schools using labels \"High Acceptance Rate\" or \"Low Acceptance Rate\"\n",
        "medianAcceptRate = hypothesisDF.acceptance_rate.median()\n",
        "hypothesisDF.acceptance_rate[((middleSchoolDF.acceptances / middleSchoolDF.applications) * 100) <= medianAcceptRate] = \"low acceptance rate\"\n",
        "hypothesisDF.acceptance_rate[((middleSchoolDF.acceptances / middleSchoolDF.applications) * 100) > medianAcceptRate] = \"high acceptance rate\"\n",
        "\n",
        "#Add school name to the DataFrame for easier 1:1 visualization\n",
        "hypothesisDF.insert(0, \"School Name\", middleSchoolDF[\"school_name\"], True)\n",
        "hypothesisDF.head(10)"
      ],
      "metadata": {
        "colab": {
          "base_uri": "https://localhost:8080/",
          "height": 1000
        },
        "id": "R_julvnyDRs1",
        "outputId": "274b92f0-c9e5-451f-e586-8449f49168c1"
      },
      "execution_count": 96,
      "outputs": [
        {
          "output_type": "stream",
          "name": "stderr",
          "text": [
            "/usr/local/lib/python3.7/dist-packages/ipykernel_launcher.py:3: SettingWithCopyWarning: \n",
            "A value is trying to be set on a copy of a slice from a DataFrame.\n",
            "Try using .loc[row_indexer,col_indexer] = value instead\n",
            "\n",
            "See the caveats in the documentation: https://pandas.pydata.org/pandas-docs/stable/user_guide/indexing.html#returning-a-view-versus-a-copy\n",
            "  This is separate from the ipykernel package so we can avoid doing imports until\n",
            "/usr/local/lib/python3.7/dist-packages/ipykernel_launcher.py:9: SettingWithCopyWarning: \n",
            "A value is trying to be set on a copy of a slice from a DataFrame\n",
            "\n",
            "See the caveats in the documentation: https://pandas.pydata.org/pandas-docs/stable/user_guide/indexing.html#returning-a-view-versus-a-copy\n",
            "  if __name__ == '__main__':\n",
            "/usr/local/lib/python3.7/dist-packages/pandas/core/generic.py:8870: SettingWithCopyWarning: \n",
            "A value is trying to be set on a copy of a slice from a DataFrame\n",
            "\n",
            "See the caveats in the documentation: https://pandas.pydata.org/pandas-docs/stable/user_guide/indexing.html#returning-a-view-versus-a-copy\n",
            "  return self._update_inplace(result)\n",
            "/usr/local/lib/python3.7/dist-packages/ipykernel_launcher.py:10: SettingWithCopyWarning: \n",
            "A value is trying to be set on a copy of a slice from a DataFrame\n",
            "\n",
            "See the caveats in the documentation: https://pandas.pydata.org/pandas-docs/stable/user_guide/indexing.html#returning-a-view-versus-a-copy\n",
            "  # Remove the CWD from sys.path while we load stuff.\n",
            "/usr/local/lib/python3.7/dist-packages/ipykernel_launcher.py:14: SettingWithCopyWarning: \n",
            "A value is trying to be set on a copy of a slice from a DataFrame\n",
            "\n",
            "See the caveats in the documentation: https://pandas.pydata.org/pandas-docs/stable/user_guide/indexing.html#returning-a-view-versus-a-copy\n",
            "  \n",
            "/usr/local/lib/python3.7/dist-packages/ipykernel_launcher.py:15: SettingWithCopyWarning: \n",
            "A value is trying to be set on a copy of a slice from a DataFrame\n",
            "\n",
            "See the caveats in the documentation: https://pandas.pydata.org/pandas-docs/stable/user_guide/indexing.html#returning-a-view-versus-a-copy\n",
            "  from ipykernel import kernelapp as app\n"
          ]
        },
        {
          "output_type": "execute_result",
          "data": {
            "text/plain": [
              "                                         School Name per_pupil_spending  \\\n",
              "0                     P.S. 034 FRANKLIN D. ROOSEVELT    Greater Funding   \n",
              "1                             P.S. 140 NATHAN STRAUS    Greater Funding   \n",
              "2                               P.S. 184M SHUANG WEN     Lesser Funding   \n",
              "3                         P.S. 188 THE ISLAND SCHOOL    Greater Funding   \n",
              "4              TECHNOLOGY, ARTS, AND SCIENCES STUDIO    Greater Funding   \n",
              "5              UNIVERSITY NEIGHBORHOOD MIDDLE SCHOOL    Greater Funding   \n",
              "6                          SCHOOL FOR GLOBAL LEADERS    Greater Funding   \n",
              "7                         EAST SIDE COMMUNITY SCHOOL    Greater Funding   \n",
              "8  NEW EXPLORATIONS INTO SCIENCE, TECHNOLOGY AND ...     Lesser Funding   \n",
              "9                      TOMPKINS SQUARE MIDDLE SCHOOL     Lesser Funding   \n",
              "\n",
              "   applications  acceptances       acceptance_rate  \n",
              "0             6            0   low acceptance rate  \n",
              "1             6            0   low acceptance rate  \n",
              "2            67           23  high acceptance rate  \n",
              "3             0            0                   NaN  \n",
              "4            11            0   low acceptance rate  \n",
              "5            13            0   low acceptance rate  \n",
              "6            19            1   low acceptance rate  \n",
              "7            16            1  high acceptance rate  \n",
              "8           126           91  high acceptance rate  \n",
              "9            66           14  high acceptance rate  "
            ],
            "text/html": [
              "\n",
              "  <div id=\"df-c349444a-19c3-4788-9b24-29951edb53f6\">\n",
              "    <div class=\"colab-df-container\">\n",
              "      <div>\n",
              "<style scoped>\n",
              "    .dataframe tbody tr th:only-of-type {\n",
              "        vertical-align: middle;\n",
              "    }\n",
              "\n",
              "    .dataframe tbody tr th {\n",
              "        vertical-align: top;\n",
              "    }\n",
              "\n",
              "    .dataframe thead th {\n",
              "        text-align: right;\n",
              "    }\n",
              "</style>\n",
              "<table border=\"1\" class=\"dataframe\">\n",
              "  <thead>\n",
              "    <tr style=\"text-align: right;\">\n",
              "      <th></th>\n",
              "      <th>School Name</th>\n",
              "      <th>per_pupil_spending</th>\n",
              "      <th>applications</th>\n",
              "      <th>acceptances</th>\n",
              "      <th>acceptance_rate</th>\n",
              "    </tr>\n",
              "  </thead>\n",
              "  <tbody>\n",
              "    <tr>\n",
              "      <th>0</th>\n",
              "      <td>P.S. 034 FRANKLIN D. ROOSEVELT</td>\n",
              "      <td>Greater Funding</td>\n",
              "      <td>6</td>\n",
              "      <td>0</td>\n",
              "      <td>low acceptance rate</td>\n",
              "    </tr>\n",
              "    <tr>\n",
              "      <th>1</th>\n",
              "      <td>P.S. 140 NATHAN STRAUS</td>\n",
              "      <td>Greater Funding</td>\n",
              "      <td>6</td>\n",
              "      <td>0</td>\n",
              "      <td>low acceptance rate</td>\n",
              "    </tr>\n",
              "    <tr>\n",
              "      <th>2</th>\n",
              "      <td>P.S. 184M SHUANG WEN</td>\n",
              "      <td>Lesser Funding</td>\n",
              "      <td>67</td>\n",
              "      <td>23</td>\n",
              "      <td>high acceptance rate</td>\n",
              "    </tr>\n",
              "    <tr>\n",
              "      <th>3</th>\n",
              "      <td>P.S. 188 THE ISLAND SCHOOL</td>\n",
              "      <td>Greater Funding</td>\n",
              "      <td>0</td>\n",
              "      <td>0</td>\n",
              "      <td>NaN</td>\n",
              "    </tr>\n",
              "    <tr>\n",
              "      <th>4</th>\n",
              "      <td>TECHNOLOGY, ARTS, AND SCIENCES STUDIO</td>\n",
              "      <td>Greater Funding</td>\n",
              "      <td>11</td>\n",
              "      <td>0</td>\n",
              "      <td>low acceptance rate</td>\n",
              "    </tr>\n",
              "    <tr>\n",
              "      <th>5</th>\n",
              "      <td>UNIVERSITY NEIGHBORHOOD MIDDLE SCHOOL</td>\n",
              "      <td>Greater Funding</td>\n",
              "      <td>13</td>\n",
              "      <td>0</td>\n",
              "      <td>low acceptance rate</td>\n",
              "    </tr>\n",
              "    <tr>\n",
              "      <th>6</th>\n",
              "      <td>SCHOOL FOR GLOBAL LEADERS</td>\n",
              "      <td>Greater Funding</td>\n",
              "      <td>19</td>\n",
              "      <td>1</td>\n",
              "      <td>low acceptance rate</td>\n",
              "    </tr>\n",
              "    <tr>\n",
              "      <th>7</th>\n",
              "      <td>EAST SIDE COMMUNITY SCHOOL</td>\n",
              "      <td>Greater Funding</td>\n",
              "      <td>16</td>\n",
              "      <td>1</td>\n",
              "      <td>high acceptance rate</td>\n",
              "    </tr>\n",
              "    <tr>\n",
              "      <th>8</th>\n",
              "      <td>NEW EXPLORATIONS INTO SCIENCE, TECHNOLOGY AND ...</td>\n",
              "      <td>Lesser Funding</td>\n",
              "      <td>126</td>\n",
              "      <td>91</td>\n",
              "      <td>high acceptance rate</td>\n",
              "    </tr>\n",
              "    <tr>\n",
              "      <th>9</th>\n",
              "      <td>TOMPKINS SQUARE MIDDLE SCHOOL</td>\n",
              "      <td>Lesser Funding</td>\n",
              "      <td>66</td>\n",
              "      <td>14</td>\n",
              "      <td>high acceptance rate</td>\n",
              "    </tr>\n",
              "  </tbody>\n",
              "</table>\n",
              "</div>\n",
              "      <button class=\"colab-df-convert\" onclick=\"convertToInteractive('df-c349444a-19c3-4788-9b24-29951edb53f6')\"\n",
              "              title=\"Convert this dataframe to an interactive table.\"\n",
              "              style=\"display:none;\">\n",
              "        \n",
              "  <svg xmlns=\"http://www.w3.org/2000/svg\" height=\"24px\"viewBox=\"0 0 24 24\"\n",
              "       width=\"24px\">\n",
              "    <path d=\"M0 0h24v24H0V0z\" fill=\"none\"/>\n",
              "    <path d=\"M18.56 5.44l.94 2.06.94-2.06 2.06-.94-2.06-.94-.94-2.06-.94 2.06-2.06.94zm-11 1L8.5 8.5l.94-2.06 2.06-.94-2.06-.94L8.5 2.5l-.94 2.06-2.06.94zm10 10l.94 2.06.94-2.06 2.06-.94-2.06-.94-.94-2.06-.94 2.06-2.06.94z\"/><path d=\"M17.41 7.96l-1.37-1.37c-.4-.4-.92-.59-1.43-.59-.52 0-1.04.2-1.43.59L10.3 9.45l-7.72 7.72c-.78.78-.78 2.05 0 2.83L4 21.41c.39.39.9.59 1.41.59.51 0 1.02-.2 1.41-.59l7.78-7.78 2.81-2.81c.8-.78.8-2.07 0-2.86zM5.41 20L4 18.59l7.72-7.72 1.47 1.35L5.41 20z\"/>\n",
              "  </svg>\n",
              "      </button>\n",
              "      \n",
              "  <style>\n",
              "    .colab-df-container {\n",
              "      display:flex;\n",
              "      flex-wrap:wrap;\n",
              "      gap: 12px;\n",
              "    }\n",
              "\n",
              "    .colab-df-convert {\n",
              "      background-color: #E8F0FE;\n",
              "      border: none;\n",
              "      border-radius: 50%;\n",
              "      cursor: pointer;\n",
              "      display: none;\n",
              "      fill: #1967D2;\n",
              "      height: 32px;\n",
              "      padding: 0 0 0 0;\n",
              "      width: 32px;\n",
              "    }\n",
              "\n",
              "    .colab-df-convert:hover {\n",
              "      background-color: #E2EBFA;\n",
              "      box-shadow: 0px 1px 2px rgba(60, 64, 67, 0.3), 0px 1px 3px 1px rgba(60, 64, 67, 0.15);\n",
              "      fill: #174EA6;\n",
              "    }\n",
              "\n",
              "    [theme=dark] .colab-df-convert {\n",
              "      background-color: #3B4455;\n",
              "      fill: #D2E3FC;\n",
              "    }\n",
              "\n",
              "    [theme=dark] .colab-df-convert:hover {\n",
              "      background-color: #434B5C;\n",
              "      box-shadow: 0px 1px 3px 1px rgba(0, 0, 0, 0.15);\n",
              "      filter: drop-shadow(0px 1px 2px rgba(0, 0, 0, 0.3));\n",
              "      fill: #FFFFFF;\n",
              "    }\n",
              "  </style>\n",
              "\n",
              "      <script>\n",
              "        const buttonEl =\n",
              "          document.querySelector('#df-c349444a-19c3-4788-9b24-29951edb53f6 button.colab-df-convert');\n",
              "        buttonEl.style.display =\n",
              "          google.colab.kernel.accessAllowed ? 'block' : 'none';\n",
              "\n",
              "        async function convertToInteractive(key) {\n",
              "          const element = document.querySelector('#df-c349444a-19c3-4788-9b24-29951edb53f6');\n",
              "          const dataTable =\n",
              "            await google.colab.kernel.invokeFunction('convertToInteractive',\n",
              "                                                     [key], {});\n",
              "          if (!dataTable) return;\n",
              "\n",
              "          const docLinkHtml = 'Like what you see? Visit the ' +\n",
              "            '<a target=\"_blank\" href=https://colab.research.google.com/notebooks/data_table.ipynb>data table notebook</a>'\n",
              "            + ' to learn more about interactive tables.';\n",
              "          element.innerHTML = '';\n",
              "          dataTable['output_type'] = 'display_data';\n",
              "          await google.colab.output.renderOutput(dataTable, element);\n",
              "          const docLink = document.createElement('div');\n",
              "          docLink.innerHTML = docLinkHtml;\n",
              "          element.appendChild(docLink);\n",
              "        }\n",
              "      </script>\n",
              "    </div>\n",
              "  </div>\n",
              "  "
            ]
          },
          "metadata": {},
          "execution_count": 96
        }
      ]
    },
    {
      "cell_type": "markdown",
      "source": [
        "Since I was able to successfully categorically label encode the data, I moved on to incorporating a chi-squared test in order to find a critical value within the contigency table and finding the degrees of freedom (dof) within the test results."
      ],
      "metadata": {
        "id": "e4-Epzn5KGtv"
      }
    },
    {
      "cell_type": "code",
      "source": [
        "from scipy.stats import chi2_contingency\n",
        "from scipy.stats import chi2\n",
        "\n",
        "hypothesisContigency = pd.crosstab(hypothesisDF[\"per_pupil_spending\"], hypothesisDF[\"acceptance_rate\"])\n",
        "#Print the contigency table from the data\n",
        "print(hypothesisContigency)"
      ],
      "metadata": {
        "colab": {
          "base_uri": "https://localhost:8080/"
        },
        "id": "2yqG1sGgIKc6",
        "outputId": "f65aa29d-e103-4fc4-a86b-33c10c36ea25"
      },
      "execution_count": 99,
      "outputs": [
        {
          "output_type": "stream",
          "name": "stdout",
          "text": [
            "acceptance_rate     high acceptance rate  low acceptance rate\n",
            "per_pupil_spending                                           \n",
            "Greater Funding                       68                  124\n",
            "Lesser Funding                       139                   89\n"
          ]
        }
      ]
    },
    {
      "cell_type": "code",
      "source": [
        "#Run contingency table through chi-squared test\n",
        "stat, p, dof, expected = chi2_contingency(hypothesisContigency)\n",
        "#Evaluate the degrees of freedom within the chi-squared test\n",
        "print('dof = %d' % dof)\n",
        "print(expected)"
      ],
      "metadata": {
        "colab": {
          "base_uri": "https://localhost:8080/"
        },
        "id": "bzsc2cngK0Nb",
        "outputId": "8322810a-98fd-4306-fc23-e8ba00cf86af"
      },
      "execution_count": 101,
      "outputs": [
        {
          "output_type": "stream",
          "name": "stdout",
          "text": [
            "dof = 1\n",
            "[[ 94.62857143  97.37142857]\n",
            " [112.37142857 115.62857143]]\n"
          ]
        }
      ]
    },
    {
      "cell_type": "code",
      "source": [
        "#Interpret the test statistic and evaluate an initial result from the test\n",
        "prob = 0.95\n",
        "critical = chi2.ppf(prob, dof)\n",
        "print('Probability=%.3f, Critical=%.3f, Stat=%.3f' % (prob, critical, stat))\n",
        "if abs(stat) >= critical:\n",
        "\tprint('Dependent (Reject H_0)')\n",
        "else:\n",
        "\tprint('Independent (Failed to reject H_0)')"
      ],
      "metadata": {
        "colab": {
          "base_uri": "https://localhost:8080/"
        },
        "id": "w1uYLkNkK684",
        "outputId": "d2c28345-4a5d-4398-d8ac-b2cb52a8ef54"
      },
      "execution_count": 103,
      "outputs": [
        {
          "output_type": "stream",
          "name": "stdout",
          "text": [
            "Probability=0.950, Critical=3.841, Stat=26.206\n",
            "Dependent (Reject H_0)\n"
          ]
        }
      ]
    },
    {
      "cell_type": "code",
      "source": [
        "#Interprets the p-value obtained from the chi-squared test\n",
        "alpha = 1.0 - prob\n",
        "print('Significance=%.3f, p=%.3f' % (alpha, p))\n",
        "if p <= alpha:\n",
        "\tprint('Dependent (Reject H_0)')\n",
        "else:\n",
        "\tprint('Independent (Failed to Reject H_0)')"
      ],
      "metadata": {
        "colab": {
          "base_uri": "https://localhost:8080/"
        },
        "id": "Q4I1-HwNLOZJ",
        "outputId": "ad3df659-7bfb-4ee3-ebe9-ca9182fae2ad"
      },
      "execution_count": 104,
      "outputs": [
        {
          "output_type": "stream",
          "name": "stdout",
          "text": [
            "Significance=0.050, p=0.000\n",
            "Dependent (Reject H_0)\n"
          ]
        }
      ]
    },
    {
      "cell_type": "markdown",
      "source": [
        "My initial null hypothesis when regarding the relationship between the two features of the data was that funding would not affect HSPHS acceptance rate in a statistically significant way. However after running the chi-squared test on the label-encoded categorical data, I was left with a p-value of around $ 3.06 \\times 10^{-7}$, much lower than the accepted critical p-value of 0.05, thus giving me grounds to reject my null hypothesis and conclude that school funding and HSPHS acceptance rate did indeed have a strong relation."
      ],
      "metadata": {
        "id": "JiQvDPhJLb0Y"
      }
    },
    {
      "cell_type": "markdown",
      "source": [
        "# 6. Availability of Resources and Achievement and Admission"
      ],
      "metadata": {
        "id": "BRCbtqMYh2b_"
      }
    },
    {
      "cell_type": "markdown",
      "source": [
        "Continuing on my previous evaluation of pure per-student spending of each school, I wanted to further expand on this analysis by incorporating other features such as availability of material resources and the impact these had on objective measures of achievement and also admission to a HSPHS."
      ],
      "metadata": {
        "id": "TnX36JFqNcBi"
      }
    },
    {
      "cell_type": "code",
      "source": [
        "predictorDF = middleSchoolDF[[\"per_pupil_spending\", \"avg_class_size\", \"school_size\", \"acceptances\",\n",
        "                   \"student_achievement\", \"reading_scores_exceed\", \"math_scores_exceed\"]]\n",
        "\n",
        "#Remove NaN values within any relevant data columns\n",
        "predictorDF = np.nan_to_num(predictorDF)\n",
        "\n",
        "#We need to see if a Principal Components Analysis is needed by looking at correlation\n",
        "r = np.corrcoef(predictorDF,rowvar=False)\n",
        "plt.imshow(r)\n",
        "plt.colorbar();"
      ],
      "metadata": {
        "colab": {
          "base_uri": "https://localhost:8080/",
          "height": 269
        },
        "id": "Hd-h9z-BLbS6",
        "outputId": "02bed8f3-7cf2-4357-8167-5abd6332859d"
      },
      "execution_count": 108,
      "outputs": [
        {
          "output_type": "display_data",
          "data": {
            "text/plain": [
              "<Figure size 432x288 with 2 Axes>"
            ],
            "image/png": "[encoded data removed]"
          },
          "metadata": {
            "needs_background": "light"
          }
        }
      ]
    },
    {
      "cell_type": "markdown",
      "source": [
        "| Feature Label    | Feature Attribute |\n",
        "| ----------- | ----------- |\n",
        "| 0 |  Per pupil spending  |\n",
        "| 1 |  Average class size |\n",
        "| 2 |  School size    |\n",
        "| 3 |  Acceptance to a HSPHS   |\n",
        "| 4 |  OBJECTIVE MEASURE: Student Achievement    |\n",
        "| 5 |  OBJECTIVE MEASURE: Students Exceeding Reading Scores    |\n",
        "| 6 |  OBJECTIVE MEASURE: Students Exceeding Math Scores  |\n"
      ],
      "metadata": {
        "id": "pG9viTRJOQX0"
      }
    },
    {
      "cell_type": "markdown",
      "source": [
        "Analyzing the heatmap shows that there is a strong relationship between per pupil spending and average class size. This prompted me to calculate Pearson's Correlation Coefficient for these two variables to determine how closely correlated these two features within the data were. I then plotted the data to visualize the trend between the two features. "
      ],
      "metadata": {
        "id": "OFaOrtEwOQgY"
      }
    },
    {
      "cell_type": "code",
      "source": [
        "perPupilSpending = middleSchoolDF[\"per_pupil_spending\"]\n",
        "avgClassSize = middleSchoolDF[\"avg_class_size\"]\n",
        "\n",
        "#Simple pre-processing to remove any NaN values\n",
        "perPupilSpending = np.nan_to_num(perPupilSpending)\n",
        "avgClassSize = np.nan_to_num(avgClassSize)\n",
        "\n",
        "#Determine Pearson's r for the two features\n",
        "r = np.corrcoef(perPupilSpending, avgClassSize)\n",
        "r"
      ],
      "metadata": {
        "colab": {
          "base_uri": "https://localhost:8080/"
        },
        "id": "vZeC7Xc7LZoT",
        "outputId": "e8bf2a1c-a11d-4f3b-8792-b842b7f14e66"
      },
      "execution_count": 113,
      "outputs": [
        {
          "output_type": "execute_result",
          "data": {
            "text/plain": [
              "array([[1.        , 0.75210707],\n",
              "       [0.75210707, 1.        ]])"
            ]
          },
          "metadata": {},
          "execution_count": 113
        }
      ]
    },
    {
      "cell_type": "markdown",
      "source": [
        "Determining that there was a Pearson's Correlation Coefficient of around 0.752 for the two specified features, and I then moved to plot this relation."
      ],
      "metadata": {
        "id": "-5c3fZrRPwDP"
      }
    },
    {
      "cell_type": "code",
      "source": [
        "plt.plot(perPupilSpending, avgClassSize, \"o\", markersize = 3)\n",
        "plt.title(\"Correlation Between Per Pupil Spending and Average Class Size\")\n",
        "plt.xlim(10000, 38000)\n",
        "plt.xlabel(\"Per Pupil Spending\")\n",
        "plt.ylim(5, 40)\n",
        "plt.ylabel(\"Average Class Size\");"
      ],
      "metadata": {
        "colab": {
          "base_uri": "https://localhost:8080/",
          "height": 295
        },
        "id": "bLtgrUDAPVOc",
        "outputId": "85a15af0-708d-4607-f682-2938cba73b44"
      },
      "execution_count": 120,
      "outputs": [
        {
          "output_type": "display_data",
          "data": {
            "text/plain": [
              "<Figure size 432x288 with 1 Axes>"
            ],
            "image/png": "[encoded data removed]"
          },
          "metadata": {
            "needs_background": "light"
          }
        }
      ]
    },
    {
      "cell_type": "markdown",
      "source": [
        "Although the correlation does show a decreasing but linear relationship between per pupil spending and average class size, analysis of the earlier heatmap surprisingly shows that there is very little correlation between availibility of material resources and the objective success of a school and also the increase of student acceptance to a HSPHS."
      ],
      "metadata": {
        "id": "gnUVwRnKQTr9"
      }
    },
    {
      "cell_type": "markdown",
      "source": [
        "# 7. Proportion of Schools Which Account for 90% of HSPHS Acceptances"
      ],
      "metadata": {
        "id": "-Mh7w9pAh7OU"
      }
    },
    {
      "cell_type": "markdown",
      "source": [
        "I wanted to determine how many of the top schools in terms of HSPHS acceptance accounted for the majority of acceptances into any HSPHS. "
      ],
      "metadata": {
        "id": "lj0Z7bLrSGZp"
      }
    },
    {
      "cell_type": "code",
      "source": [
        "hypothesisDF = middleSchoolDF[[\"school_name\", \"acceptances\"]]\n",
        "\n",
        "#Create a variable which sums up the total number of HSPHS acceptances across the city\n",
        "totalAccept = hypothesisDF.acceptances.sum()\n",
        "hypothesisDF[\"Percentage of Acceptances\"] = (hypothesisDF.acceptances / totalAccept) * 100\n",
        "\n",
        "#Sort the DataFrame based on decreasing rank order of percentage contribution to acceptances\n",
        "sortedHypothesisDF = hypothesisDF.sort_values(by = [\"Percentage of Acceptances\"], ascending = False)\n",
        "sortedHypothesisDF.reset_index(inplace=True)\n",
        "sortedHypothesisDF.head(5)"
      ],
      "metadata": {
        "colab": {
          "base_uri": "https://localhost:8080/",
          "height": 444
        },
        "id": "T88bYNN7R7_k",
        "outputId": "f7a80d40-ca09-4e58-c99f-5b43a24fc26f"
      },
      "execution_count": 144,
      "outputs": [
        {
          "output_type": "stream",
          "name": "stderr",
          "text": [
            "/usr/local/lib/python3.7/dist-packages/ipykernel_launcher.py:5: SettingWithCopyWarning: \n",
            "A value is trying to be set on a copy of a slice from a DataFrame.\n",
            "Try using .loc[row_indexer,col_indexer] = value instead\n",
            "\n",
            "See the caveats in the documentation: https://pandas.pydata.org/pandas-docs/stable/user_guide/indexing.html#returning-a-view-versus-a-copy\n",
            "  \"\"\"\n"
          ]
        },
        {
          "output_type": "execute_result",
          "data": {
            "text/plain": [
              "   index                                        school_name  acceptances  \\\n",
              "0    304              THE CHRISTA MCAULIFFE SCHOOL\\I.S. 187          205   \n",
              "1    324      MARK TWAIN I.S. 239 FOR THE GIFTED & TALENTED          196   \n",
              "2     33                    J.H.S. 054 BOOKER T. WASHINGTON          150   \n",
              "3    241                          M.S. 51 WILLIAM ALEXANDER          122   \n",
              "4     22  NEW YORK CITY LAB MIDDLE SCHOOL FOR COLLABORAT...          113   \n",
              "\n",
              "   Percentage of Acceptances  \n",
              "0                   4.595382  \n",
              "1                   4.393634  \n",
              "2                   3.362475  \n",
              "3                   2.734813  \n",
              "4                   2.533064  "
            ],
            "text/html": [
              "\n",
              "  <div id=\"df-ebfdaad6-54a8-4a21-ab55-40ff02b28470\">\n",
              "    <div class=\"colab-df-container\">\n",
              "      <div>\n",
              "<style scoped>\n",
              "    .dataframe tbody tr th:only-of-type {\n",
              "        vertical-align: middle;\n",
              "    }\n",
              "\n",
              "    .dataframe tbody tr th {\n",
              "        vertical-align: top;\n",
              "    }\n",
              "\n",
              "    .dataframe thead th {\n",
              "        text-align: right;\n",
              "    }\n",
              "</style>\n",
              "<table border=\"1\" class=\"dataframe\">\n",
              "  <thead>\n",
              "    <tr style=\"text-align: right;\">\n",
              "      <th></th>\n",
              "      <th>index</th>\n",
              "      <th>school_name</th>\n",
              "      <th>acceptances</th>\n",
              "      <th>Percentage of Acceptances</th>\n",
              "    </tr>\n",
              "  </thead>\n",
              "  <tbody>\n",
              "    <tr>\n",
              "      <th>0</th>\n",
              "      <td>304</td>\n",
              "      <td>THE CHRISTA MCAULIFFE SCHOOL\\I.S. 187</td>\n",
              "      <td>205</td>\n",
              "      <td>4.595382</td>\n",
              "    </tr>\n",
              "    <tr>\n",
              "      <th>1</th>\n",
              "      <td>324</td>\n",
              "      <td>MARK TWAIN I.S. 239 FOR THE GIFTED &amp; TALENTED</td>\n",
              "      <td>196</td>\n",
              "      <td>4.393634</td>\n",
              "    </tr>\n",
              "    <tr>\n",
              "      <th>2</th>\n",
              "      <td>33</td>\n",
              "      <td>J.H.S. 054 BOOKER T. WASHINGTON</td>\n",
              "      <td>150</td>\n",
              "      <td>3.362475</td>\n",
              "    </tr>\n",
              "    <tr>\n",
              "      <th>3</th>\n",
              "      <td>241</td>\n",
              "      <td>M.S. 51 WILLIAM ALEXANDER</td>\n",
              "      <td>122</td>\n",
              "      <td>2.734813</td>\n",
              "    </tr>\n",
              "    <tr>\n",
              "      <th>4</th>\n",
              "      <td>22</td>\n",
              "      <td>NEW YORK CITY LAB MIDDLE SCHOOL FOR COLLABORAT...</td>\n",
              "      <td>113</td>\n",
              "      <td>2.533064</td>\n",
              "    </tr>\n",
              "  </tbody>\n",
              "</table>\n",
              "</div>\n",
              "      <button class=\"colab-df-convert\" onclick=\"convertToInteractive('df-ebfdaad6-54a8-4a21-ab55-40ff02b28470')\"\n",
              "              title=\"Convert this dataframe to an interactive table.\"\n",
              "              style=\"display:none;\">\n",
              "        \n",
              "  <svg xmlns=\"http://www.w3.org/2000/svg\" height=\"24px\"viewBox=\"0 0 24 24\"\n",
              "       width=\"24px\">\n",
              "    <path d=\"M0 0h24v24H0V0z\" fill=\"none\"/>\n",
              "    <path d=\"M18.56 5.44l.94 2.06.94-2.06 2.06-.94-2.06-.94-.94-2.06-.94 2.06-2.06.94zm-11 1L8.5 8.5l.94-2.06 2.06-.94-2.06-.94L8.5 2.5l-.94 2.06-2.06.94zm10 10l.94 2.06.94-2.06 2.06-.94-2.06-.94-.94-2.06-.94 2.06-2.06.94z\"/><path d=\"M17.41 7.96l-1.37-1.37c-.4-.4-.92-.59-1.43-.59-.52 0-1.04.2-1.43.59L10.3 9.45l-7.72 7.72c-.78.78-.78 2.05 0 2.83L4 21.41c.39.39.9.59 1.41.59.51 0 1.02-.2 1.41-.59l7.78-7.78 2.81-2.81c.8-.78.8-2.07 0-2.86zM5.41 20L4 18.59l7.72-7.72 1.47 1.35L5.41 20z\"/>\n",
              "  </svg>\n",
              "      </button>\n",
              "      \n",
              "  <style>\n",
              "    .colab-df-container {\n",
              "      display:flex;\n",
              "      flex-wrap:wrap;\n",
              "      gap: 12px;\n",
              "    }\n",
              "\n",
              "    .colab-df-convert {\n",
              "      background-color: #E8F0FE;\n",
              "      border: none;\n",
              "      border-radius: 50%;\n",
              "      cursor: pointer;\n",
              "      display: none;\n",
              "      fill: #1967D2;\n",
              "      height: 32px;\n",
              "      padding: 0 0 0 0;\n",
              "      width: 32px;\n",
              "    }\n",
              "\n",
              "    .colab-df-convert:hover {\n",
              "      background-color: #E2EBFA;\n",
              "      box-shadow: 0px 1px 2px rgba(60, 64, 67, 0.3), 0px 1px 3px 1px rgba(60, 64, 67, 0.15);\n",
              "      fill: #174EA6;\n",
              "    }\n",
              "\n",
              "    [theme=dark] .colab-df-convert {\n",
              "      background-color: #3B4455;\n",
              "      fill: #D2E3FC;\n",
              "    }\n",
              "\n",
              "    [theme=dark] .colab-df-convert:hover {\n",
              "      background-color: #434B5C;\n",
              "      box-shadow: 0px 1px 3px 1px rgba(0, 0, 0, 0.15);\n",
              "      filter: drop-shadow(0px 1px 2px rgba(0, 0, 0, 0.3));\n",
              "      fill: #FFFFFF;\n",
              "    }\n",
              "  </style>\n",
              "\n",
              "      <script>\n",
              "        const buttonEl =\n",
              "          document.querySelector('#df-ebfdaad6-54a8-4a21-ab55-40ff02b28470 button.colab-df-convert');\n",
              "        buttonEl.style.display =\n",
              "          google.colab.kernel.accessAllowed ? 'block' : 'none';\n",
              "\n",
              "        async function convertToInteractive(key) {\n",
              "          const element = document.querySelector('#df-ebfdaad6-54a8-4a21-ab55-40ff02b28470');\n",
              "          const dataTable =\n",
              "            await google.colab.kernel.invokeFunction('convertToInteractive',\n",
              "                                                     [key], {});\n",
              "          if (!dataTable) return;\n",
              "\n",
              "          const docLinkHtml = 'Like what you see? Visit the ' +\n",
              "            '<a target=\"_blank\" href=https://colab.research.google.com/notebooks/data_table.ipynb>data table notebook</a>'\n",
              "            + ' to learn more about interactive tables.';\n",
              "          element.innerHTML = '';\n",
              "          dataTable['output_type'] = 'display_data';\n",
              "          await google.colab.output.renderOutput(dataTable, element);\n",
              "          const docLink = document.createElement('div');\n",
              "          docLink.innerHTML = docLinkHtml;\n",
              "          element.appendChild(docLink);\n",
              "        }\n",
              "      </script>\n",
              "    </div>\n",
              "  </div>\n",
              "  "
            ]
          },
          "metadata": {},
          "execution_count": 144
        }
      ]
    },
    {
      "cell_type": "markdown",
      "source": [
        "We have now organized our DataFrame such that we can see the individual contribution each school has in terms of HSPHS acceptance. We now perform some simple calculations and manipulations on the DataFrame in order to determine how many schools it takes to account for over 90% of overall HSPHS acceptance."
      ],
      "metadata": {
        "id": "19zKvSBsTE8x"
      }
    },
    {
      "cell_type": "code",
      "source": [
        "count = 0\n",
        "percentContributed = 0\n",
        "while percentContributed < 90:\n",
        "  percentContributed += sortedHypothesisDF.loc[count,\"Percentage of Acceptances\"]\n",
        "  count += 1\n",
        "percentage = float((count / 594) * 100)\n",
        "print(str(count) + \" schools contributed to 90% of overall HSPHS acceptance. Given\" +\n",
        "      \" 594 middle schools within New York City,\\nthis means that \" + str('{:.2f}'.format(percentage)) + \n",
        "      \"% of the top schools accounted for 90% of city-wide admission to any HSPHS.\")"
      ],
      "metadata": {
        "colab": {
          "base_uri": "https://localhost:8080/"
        },
        "id": "A27aafsDTD2x",
        "outputId": "fd084d5f-cd90-4140-e30d-9b983c74ed3a"
      },
      "execution_count": 157,
      "outputs": [
        {
          "output_type": "stream",
          "name": "stdout",
          "text": [
            "123 schools contributed to 90% of overall HSPHS acceptance. Given 594 middle schools within New York City,\n",
            "this means that 20.71% of the top schools accounted for 90% of city-wide admission to any HSPHS.\n"
          ]
        }
      ]
    },
    {
      "cell_type": "markdown",
      "source": [
        "After analyis of the sorted DataFrame, we find that **20.71%** of the top schools ranked by total contributed acceptance rate accounted for over 90% of admission into any HSPHS within NYC. This result is surprising as it shows just how top-heavy the acceptance rates are within schools for admissions to these high selective schools."
      ],
      "metadata": {
        "id": "CboVM5exZcTm"
      }
    },
    {
      "cell_type": "markdown",
      "source": [
        "# 8. Incorporating Clustering to Determine All Influential Factors"
      ],
      "metadata": {
        "id": "i7oQFoDYh__O"
      }
    },
    {
      "cell_type": "markdown",
      "source": [
        "Since I reviewed most of the factors independently which could have contributed to HSPHS acceptance and also evaluated the correlations between different factors, I found it most relevant to build a model on a clustering algorithm in order to determine the most important school characteristics within a school."
      ],
      "metadata": {
        "id": "nh_laWlMZtmK"
      }
    },
    {
      "cell_type": "code",
      "source": [
        "predictors = data[[\"rigorous_instruction\", \"collaborative_teachers\", \"supportive_environment\", \"effective_school_leadership\",\n",
        "                   \"strong_family_community_ties\", \"trust\"]].to_numpy()\n",
        "\n",
        "#Remove NaN values in simple first pre-processing step\n",
        "predictors = np.nan_to_num(predictors)\n",
        "\n",
        "#Checking correlation in order to evaluate the need for a PCA\n",
        "r = np.corrcoef(predictors,rowvar=False)\n",
        "plt.imshow(r)\n",
        "plt.colorbar();"
      ],
      "metadata": {
        "colab": {
          "base_uri": "https://localhost:8080/",
          "height": 269
        },
        "id": "PexgvS0gZs16",
        "outputId": "def7b8c7-b346-4bef-d018-8141227b97b7"
      },
      "execution_count": 178,
      "outputs": [
        {
          "output_type": "display_data",
          "data": {
            "text/plain": [
              "<Figure size 432x288 with 2 Axes>"
            ],
            "image/png": "[encoded data removed]"
          },
          "metadata": {
            "needs_background": "light"
          }
        }
      ]
    },
    {
      "cell_type": "markdown",
      "source": [
        "After constructing the heatmap between the relationship of the values, I decided to run a Principal Components Analysis to further analyze the relationship between the features in the data."
      ],
      "metadata": {
        "id": "J5Cam35jaZmw"
      }
    },
    {
      "cell_type": "code",
      "source": [
        "#I first z-score the data so that it is consistent all categories so it can be compared, essentially\n",
        "#trying to \"compare apples to apples\"\n",
        "zscoredData = stats.zscore(predictors)\n",
        "\n",
        "#We then fit the PCA onto the z-scored data\n",
        "pca = PCA().fit(zscoredData)\n",
        "\n",
        "#Explore the eigenvalues within the PCA\n",
        "eigen = pca.explained_variance_ \n",
        "\n",
        "#Make a loadings matrix of the components within the PCA\n",
        "loadings = pca.components_ *-1\n",
        "origDataNewCoordinates = pca.fit_transform(zscoredData) *-1"
      ],
      "metadata": {
        "id": "IZi_GkcMaZDF"
      },
      "execution_count": 181,
      "outputs": []
    },
    {
      "cell_type": "markdown",
      "source": [
        "After successfully fitting the z-scored data onto a PCA, I moved to produce a Scree plot from PCA in order to determine eigenvalue weight in the context of the factors within the data."
      ],
      "metadata": {
        "id": "0CAdpHM2bYGg"
      }
    },
    {
      "cell_type": "code",
      "source": [
        "numPredictors = 6\n",
        "plt.bar(np.linspace(1,numPredictors,numPredictors),eigen)\n",
        "plt.title('Scree plot')\n",
        "plt.xlabel('Principal Components')\n",
        "plt.ylabel('Eigenvalues');"
      ],
      "metadata": {
        "colab": {
          "base_uri": "https://localhost:8080/",
          "height": 295
        },
        "id": "THdjNqUGZbma",
        "outputId": "82dcf9d4-3401-44cf-ef43-f07cc6ccdd21"
      },
      "execution_count": 184,
      "outputs": [
        {
          "output_type": "display_data",
          "data": {
            "text/plain": [
              "<Figure size 432x288 with 1 Axes>"
            ],
            "image/png": "[encoded data removed]"
          },
          "metadata": {
            "needs_background": "light"
          }
        }
      ]
    },
    {
      "cell_type": "markdown",
      "source": [
        "It can clearly be see that one factor holds the majority of the weight within the plot's eigenvalues. By evaluating the weight of this factor using both Elbow and Kaiser criterion for evaluating eigevalues validity, it can be confident in saying that this one factor is more than sufficient to influence success outcomes. Therefore I then moved to inspect the loadings matrix of this one factor."
      ],
      "metadata": {
        "id": "ktVKadmVc7Hs"
      }
    },
    {
      "cell_type": "code",
      "source": [
        "#Loadings Matrix for Factor 1 (Overall Structure of School and Environment): \n",
        "plt.bar(np.linspace(1,numPredictors,numPredictors),loadings[0,:]);"
      ],
      "metadata": {
        "colab": {
          "base_uri": "https://localhost:8080/",
          "height": 265
        },
        "id": "5WdXT3yPZFfN",
        "outputId": "bc4afa2b-22a1-4bfc-d8f9-483e3bb3c11d"
      },
      "execution_count": 189,
      "outputs": [
        {
          "output_type": "display_data",
          "data": {
            "text/plain": [
              "<Figure size 432x288 with 1 Axes>"
            ],
            "image/png": "[encoded data removed]"
          },
          "metadata": {
            "needs_background": "light"
          }
        }
      ]
    },
    {
      "cell_type": "code",
      "source": [
        "#Loadings Matrix for Factor 2 (Support, Family, Community Ties, and Trust): \n",
        "plt.bar(np.linspace(1,numPredictors,numPredictors),loadings[1,:]);"
      ],
      "metadata": {
        "colab": {
          "base_uri": "https://localhost:8080/",
          "height": 265
        },
        "id": "P7Tw_XJTdtsv",
        "outputId": "b28848da-44fb-4b74-decd-947a8b57b76e"
      },
      "execution_count": 190,
      "outputs": [
        {
          "output_type": "display_data",
          "data": {
            "text/plain": [
              "<Figure size 432x288 with 1 Axes>"
            ],
            "image/png": "[encoded data removed]"
          },
          "metadata": {
            "needs_background": "light"
          }
        }
      ]
    },
    {
      "cell_type": "markdown",
      "source": [
        "The loading matrix for the first factor is evenly distributed, suggesting that all six factors are heavily influential in determining this factor, implying that this one principal component determines the majority of outcomes.\n",
        "\n",
        "Looking at the loading matrix for the second factor shows that some factors are negative influences while some are positive influences within the loading matrix. This also gives us more concrete analysis of the second factor, however its influence on outcomes is still minor."
      ],
      "metadata": {
        "id": "EesMLV6WeBYB"
      }
    },
    {
      "cell_type": "markdown",
      "source": [
        "# 9. Summary: Understanding Characteristics and Relevance"
      ],
      "metadata": {
        "id": "PWAYVWCmiDNg"
      }
    },
    {
      "cell_type": "markdown",
      "source": [
        "Throughout the analysis of this program, many of the factors I originally though would affect student and school performance were not as correlated as I had originally thought. An example of this would be that there was a lack of correlation between student perception of their school and student and school performance. Additionally availability of resources, which included factors such as smaller class sizes, did not have as much of a correlation with overall objective measures of success as I originally thought.\n",
        "\n",
        "Speaking of other factors however, I was surprised to also find that pure numbers of applications to a HSPHS had a much higher correlation constant than the application rate of a school. However after analysis of many other factors within the dataset, the most relevant features within the dataset seem to be school spending in terms of average spending per pupil and also just in terms of raw applications to any HSPHS.\n",
        "\n",
        "\n"
      ],
      "metadata": {
        "id": "2xpA6mBoezHa"
      }
    },
    {
      "cell_type": "markdown",
      "source": [
        "-"
      ],
      "metadata": {
        "id": "-KWktUe6fala"
      }
    },
    {
      "cell_type": "markdown",
      "source": [
        "# Recommendations within Data Science Scope for NYC DOE"
      ],
      "metadata": {
        "id": "4MWrpJPyiGhb"
      }
    },
    {
      "cell_type": "markdown",
      "source": [
        "With regards to basic recommendations for the New York City Department of Education, I would first recommend improved rates of acceptance to any HSPHS by increasing interest and sheer numbers of applicants to HSPHS. This is because there is a huge disparity in terms of pure applications to any HSPHS. This along with the incredibly positively correlatelated amount of students that get into a HSPHS and the number of applications per school cannot be ignored in terms of facilitating student success. Finally, I would push for higher per pupil spending rather than other factors of material availability as per pupil spending showed the most promise in terms of its correlation to increasing the number of students that would be accepted into a HSPHS. In the same way, the simplest way to influence the improvement and increase of objective measures of achievement within a school would also be increased by this increase in per pupil spending."
      ],
      "metadata": {
        "id": "AVMQbEOsfx3F"
      }
    }
  ]
}